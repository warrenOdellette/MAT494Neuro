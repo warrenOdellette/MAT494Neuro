{
 "cells": [
  {
   "cell_type": "markdown",
   "metadata": {},
   "source": [
    "# Setting up list of all gene interest"
   ]
  },
  {
   "cell_type": "code",
   "execution_count": 45,
   "metadata": {},
   "outputs": [],
   "source": [
    "import pandas as pd\n",
    "pd.options.mode.chained_assignment = None # Me suppressing an annoying warning message"
   ]
  },
  {
   "cell_type": "code",
   "execution_count": 65,
   "metadata": {},
   "outputs": [
    {
     "data": {
      "text/html": [
       "<div>\n",
       "<style scoped>\n",
       "    .dataframe tbody tr th:only-of-type {\n",
       "        vertical-align: middle;\n",
       "    }\n",
       "\n",
       "    .dataframe tbody tr th {\n",
       "        vertical-align: top;\n",
       "    }\n",
       "\n",
       "    .dataframe thead th {\n",
       "        text-align: right;\n",
       "    }\n",
       "</style>\n",
       "<table border=\"1\" class=\"dataframe\">\n",
       "  <thead>\n",
       "    <tr style=\"text-align: right;\">\n",
       "      <th></th>\n",
       "      <th>2-Sep</th>\n",
       "    </tr>\n",
       "  </thead>\n",
       "  <tbody>\n",
       "    <tr>\n",
       "      <th>1351</th>\n",
       "      <td>ZNF488</td>\n",
       "    </tr>\n",
       "    <tr>\n",
       "      <th>1352</th>\n",
       "      <td>ZNF521</td>\n",
       "    </tr>\n",
       "    <tr>\n",
       "      <th>1353</th>\n",
       "      <td>ZNF536</td>\n",
       "    </tr>\n",
       "    <tr>\n",
       "      <th>1354</th>\n",
       "      <td>ZNF804A</td>\n",
       "    </tr>\n",
       "    <tr>\n",
       "      <th>1355</th>\n",
       "      <td>ZNHIT2</td>\n",
       "    </tr>\n",
       "  </tbody>\n",
       "</table>\n",
       "</div>"
      ],
      "text/plain": [
       "        2-Sep\n",
       "1351   ZNF488\n",
       "1352   ZNF521\n",
       "1353   ZNF536\n",
       "1354  ZNF804A\n",
       "1355   ZNHIT2"
      ]
     },
     "execution_count": 65,
     "metadata": {},
     "output_type": "execute_result"
    }
   ],
   "source": [
    "file_name = \"GeneNames.txt\"\n",
    "Genes=pd.read_csv(file_name,delimiter=',') # Load and display the data as a dataframe\n",
    "Genes.tail()"
   ]
  },
  {
   "cell_type": "code",
   "execution_count": 47,
   "metadata": {},
   "outputs": [
    {
     "data": {
      "text/plain": [
       "1357"
      ]
     },
     "execution_count": 47,
     "metadata": {},
     "output_type": "execute_result"
    }
   ],
   "source": [
    "GeneNames=['2-Sep']\n",
    "for x in range (0,1356):\n",
    "    GeneNames.append(Genes[\"2-Sep\"][x])\n",
    "len(GeneNames)#expected value is 1357"
   ]
  },
  {
   "cell_type": "markdown",
   "metadata": {},
   "source": [
    "# Looking up all the row number of the gene interest in csv"
   ]
  },
  {
   "cell_type": "code",
   "execution_count": 48,
   "metadata": {},
   "outputs": [
    {
     "data": {
      "text/html": [
       "<div>\n",
       "<style scoped>\n",
       "    .dataframe tbody tr th:only-of-type {\n",
       "        vertical-align: middle;\n",
       "    }\n",
       "\n",
       "    .dataframe tbody tr th {\n",
       "        vertical-align: top;\n",
       "    }\n",
       "\n",
       "    .dataframe thead th {\n",
       "        text-align: right;\n",
       "    }\n",
       "</style>\n",
       "<table border=\"1\" class=\"dataframe\">\n",
       "  <thead>\n",
       "    <tr style=\"text-align: right;\">\n",
       "      <th></th>\n",
       "      <th>row_num</th>\n",
       "      <th>gene_id</th>\n",
       "      <th>ensembl_gene_id</th>\n",
       "      <th>gene_symbol</th>\n",
       "      <th>entrez_id</th>\n",
       "    </tr>\n",
       "  </thead>\n",
       "  <tbody>\n",
       "    <tr>\n",
       "      <th>52371</th>\n",
       "      <td>52372</td>\n",
       "      <td>NaN</td>\n",
       "      <td>ENSGR0000237040</td>\n",
       "      <td>DPH3P2</td>\n",
       "      <td>NaN</td>\n",
       "    </tr>\n",
       "    <tr>\n",
       "      <th>52372</th>\n",
       "      <td>52373</td>\n",
       "      <td>NaN</td>\n",
       "      <td>ENSGR0000237531</td>\n",
       "      <td>RP11-309M23.1</td>\n",
       "      <td>NaN</td>\n",
       "    </tr>\n",
       "    <tr>\n",
       "      <th>52373</th>\n",
       "      <td>52374</td>\n",
       "      <td>NaN</td>\n",
       "      <td>ENSGR0000237801</td>\n",
       "      <td>AMDP1</td>\n",
       "      <td>NaN</td>\n",
       "    </tr>\n",
       "    <tr>\n",
       "      <th>52374</th>\n",
       "      <td>52375</td>\n",
       "      <td>NaN</td>\n",
       "      <td>ENSGR0000248421</td>\n",
       "      <td>RP11-325D5.3</td>\n",
       "      <td>NaN</td>\n",
       "    </tr>\n",
       "    <tr>\n",
       "      <th>52375</th>\n",
       "      <td>52376</td>\n",
       "      <td>NaN</td>\n",
       "      <td>ENSGR0000249358</td>\n",
       "      <td>RP13-297E16.3</td>\n",
       "      <td>NaN</td>\n",
       "    </tr>\n",
       "  </tbody>\n",
       "</table>\n",
       "</div>"
      ],
      "text/plain": [
       "       row_num  gene_id  ensembl_gene_id    gene_symbol  entrez_id\n",
       "52371    52372      NaN  ENSGR0000237040         DPH3P2        NaN\n",
       "52372    52373      NaN  ENSGR0000237531  RP11-309M23.1        NaN\n",
       "52373    52374      NaN  ENSGR0000237801          AMDP1        NaN\n",
       "52374    52375      NaN  ENSGR0000248421   RP11-325D5.3        NaN\n",
       "52375    52376      NaN  ENSGR0000249358  RP13-297E16.3        NaN"
      ]
     },
     "execution_count": 48,
     "metadata": {},
     "output_type": "execute_result"
    }
   ],
   "source": [
    "file_name = \"rows_metadata.csv\"\n",
    "rows=pd.read_csv(file_name,delimiter=',') # Load and display the data as a dataframe\n",
    "rows.tail()"
   ]
  },
  {
   "cell_type": "code",
   "execution_count": 49,
   "metadata": {},
   "outputs": [],
   "source": [
    "rowsRed=rows[rows[\"gene_symbol\"].isin(GeneNames)]"
   ]
  },
  {
   "cell_type": "code",
   "execution_count": 50,
   "metadata": {},
   "outputs": [
    {
     "data": {
      "text/html": [
       "<div>\n",
       "<style scoped>\n",
       "    .dataframe tbody tr th:only-of-type {\n",
       "        vertical-align: middle;\n",
       "    }\n",
       "\n",
       "    .dataframe tbody tr th {\n",
       "        vertical-align: top;\n",
       "    }\n",
       "\n",
       "    .dataframe thead th {\n",
       "        text-align: right;\n",
       "    }\n",
       "</style>\n",
       "<table border=\"1\" class=\"dataframe\">\n",
       "  <thead>\n",
       "    <tr style=\"text-align: right;\">\n",
       "      <th></th>\n",
       "      <th>row_num</th>\n",
       "      <th>gene_id</th>\n",
       "      <th>ensembl_gene_id</th>\n",
       "      <th>gene_symbol</th>\n",
       "      <th>entrez_id</th>\n",
       "    </tr>\n",
       "  </thead>\n",
       "  <tbody>\n",
       "    <tr>\n",
       "      <th>14</th>\n",
       "      <td>15</td>\n",
       "      <td>6369.0</td>\n",
       "      <td>ENSG00000001617</td>\n",
       "      <td>SEMA3F</td>\n",
       "      <td>6405.0</td>\n",
       "    </tr>\n",
       "    <tr>\n",
       "      <th>26</th>\n",
       "      <td>27</td>\n",
       "      <td>30865.0</td>\n",
       "      <td>ENSG00000002745</td>\n",
       "      <td>WNT16</td>\n",
       "      <td>51384.0</td>\n",
       "    </tr>\n",
       "    <tr>\n",
       "      <th>27</th>\n",
       "      <td>28</td>\n",
       "      <td>22827.0</td>\n",
       "      <td>ENSG00000002746</td>\n",
       "      <td>HECW1</td>\n",
       "      <td>23072.0</td>\n",
       "    </tr>\n",
       "    <tr>\n",
       "      <th>36</th>\n",
       "      <td>37</td>\n",
       "      <td>54847.0</td>\n",
       "      <td>ENSG00000003249</td>\n",
       "      <td>DBNDD1</td>\n",
       "      <td>79007.0</td>\n",
       "    </tr>\n",
       "    <tr>\n",
       "      <th>37</th>\n",
       "      <td>38</td>\n",
       "      <td>36952.0</td>\n",
       "      <td>ENSG00000003393</td>\n",
       "      <td>ALS2</td>\n",
       "      <td>57679.0</td>\n",
       "    </tr>\n",
       "  </tbody>\n",
       "</table>\n",
       "</div>"
      ],
      "text/plain": [
       "    row_num  gene_id  ensembl_gene_id gene_symbol  entrez_id\n",
       "14       15   6369.0  ENSG00000001617      SEMA3F     6405.0\n",
       "26       27  30865.0  ENSG00000002745       WNT16    51384.0\n",
       "27       28  22827.0  ENSG00000002746       HECW1    23072.0\n",
       "36       37  54847.0  ENSG00000003249      DBNDD1    79007.0\n",
       "37       38  36952.0  ENSG00000003393        ALS2    57679.0"
      ]
     },
     "execution_count": 50,
     "metadata": {},
     "output_type": "execute_result"
    }
   ],
   "source": [
    "rowsRed.head()"
   ]
  },
  {
   "cell_type": "code",
   "execution_count": 51,
   "metadata": {},
   "outputs": [],
   "source": [
    "rowsRed=rowsRed.reset_index()"
   ]
  },
  {
   "cell_type": "code",
   "execution_count": 52,
   "metadata": {},
   "outputs": [
    {
     "data": {
      "text/html": [
       "<div>\n",
       "<style scoped>\n",
       "    .dataframe tbody tr th:only-of-type {\n",
       "        vertical-align: middle;\n",
       "    }\n",
       "\n",
       "    .dataframe tbody tr th {\n",
       "        vertical-align: top;\n",
       "    }\n",
       "\n",
       "    .dataframe thead th {\n",
       "        text-align: right;\n",
       "    }\n",
       "</style>\n",
       "<table border=\"1\" class=\"dataframe\">\n",
       "  <thead>\n",
       "    <tr style=\"text-align: right;\">\n",
       "      <th></th>\n",
       "      <th>index</th>\n",
       "      <th>row_num</th>\n",
       "      <th>gene_id</th>\n",
       "      <th>ensembl_gene_id</th>\n",
       "      <th>gene_symbol</th>\n",
       "      <th>entrez_id</th>\n",
       "    </tr>\n",
       "  </thead>\n",
       "  <tbody>\n",
       "    <tr>\n",
       "      <th>0</th>\n",
       "      <td>14</td>\n",
       "      <td>15</td>\n",
       "      <td>6369.0</td>\n",
       "      <td>ENSG00000001617</td>\n",
       "      <td>SEMA3F</td>\n",
       "      <td>6405.0</td>\n",
       "    </tr>\n",
       "    <tr>\n",
       "      <th>1</th>\n",
       "      <td>26</td>\n",
       "      <td>27</td>\n",
       "      <td>30865.0</td>\n",
       "      <td>ENSG00000002745</td>\n",
       "      <td>WNT16</td>\n",
       "      <td>51384.0</td>\n",
       "    </tr>\n",
       "    <tr>\n",
       "      <th>2</th>\n",
       "      <td>27</td>\n",
       "      <td>28</td>\n",
       "      <td>22827.0</td>\n",
       "      <td>ENSG00000002746</td>\n",
       "      <td>HECW1</td>\n",
       "      <td>23072.0</td>\n",
       "    </tr>\n",
       "    <tr>\n",
       "      <th>3</th>\n",
       "      <td>36</td>\n",
       "      <td>37</td>\n",
       "      <td>54847.0</td>\n",
       "      <td>ENSG00000003249</td>\n",
       "      <td>DBNDD1</td>\n",
       "      <td>79007.0</td>\n",
       "    </tr>\n",
       "    <tr>\n",
       "      <th>4</th>\n",
       "      <td>37</td>\n",
       "      <td>38</td>\n",
       "      <td>36952.0</td>\n",
       "      <td>ENSG00000003393</td>\n",
       "      <td>ALS2</td>\n",
       "      <td>57679.0</td>\n",
       "    </tr>\n",
       "  </tbody>\n",
       "</table>\n",
       "</div>"
      ],
      "text/plain": [
       "   index  row_num  gene_id  ensembl_gene_id gene_symbol  entrez_id\n",
       "0     14       15   6369.0  ENSG00000001617      SEMA3F     6405.0\n",
       "1     26       27  30865.0  ENSG00000002745       WNT16    51384.0\n",
       "2     27       28  22827.0  ENSG00000002746       HECW1    23072.0\n",
       "3     36       37  54847.0  ENSG00000003249      DBNDD1    79007.0\n",
       "4     37       38  36952.0  ENSG00000003393        ALS2    57679.0"
      ]
     },
     "execution_count": 52,
     "metadata": {},
     "output_type": "execute_result"
    }
   ],
   "source": [
    "rowsRed.head()"
   ]
  },
  {
   "cell_type": "code",
   "execution_count": 53,
   "metadata": {},
   "outputs": [],
   "source": [
    "del rowsRed['index']\n",
    "del rowsRed['gene_id']\n",
    "del rowsRed['ensembl_gene_id']\n",
    "del rowsRed['entrez_id']"
   ]
  },
  {
   "cell_type": "code",
   "execution_count": 64,
   "metadata": {},
   "outputs": [
    {
     "data": {
      "text/html": [
       "<div>\n",
       "<style scoped>\n",
       "    .dataframe tbody tr th:only-of-type {\n",
       "        vertical-align: middle;\n",
       "    }\n",
       "\n",
       "    .dataframe tbody tr th {\n",
       "        vertical-align: top;\n",
       "    }\n",
       "\n",
       "    .dataframe thead th {\n",
       "        text-align: right;\n",
       "    }\n",
       "</style>\n",
       "<table border=\"1\" class=\"dataframe\">\n",
       "  <thead>\n",
       "    <tr style=\"text-align: right;\">\n",
       "      <th></th>\n",
       "      <th>row_num</th>\n",
       "      <th>gene_symbol</th>\n",
       "    </tr>\n",
       "  </thead>\n",
       "  <tbody>\n",
       "    <tr>\n",
       "      <th>1348</th>\n",
       "      <td>48442</td>\n",
       "      <td>OMP</td>\n",
       "    </tr>\n",
       "    <tr>\n",
       "      <th>1349</th>\n",
       "      <td>49427</td>\n",
       "      <td>VTN</td>\n",
       "    </tr>\n",
       "    <tr>\n",
       "      <th>1350</th>\n",
       "      <td>49898</td>\n",
       "      <td>SALL3</td>\n",
       "    </tr>\n",
       "    <tr>\n",
       "      <th>1351</th>\n",
       "      <td>50691</td>\n",
       "      <td>CUX1</td>\n",
       "    </tr>\n",
       "    <tr>\n",
       "      <th>1352</th>\n",
       "      <td>51430</td>\n",
       "      <td>DIO3</td>\n",
       "    </tr>\n",
       "  </tbody>\n",
       "</table>\n",
       "</div>"
      ],
      "text/plain": [
       "      row_num gene_symbol\n",
       "1348    48442         OMP\n",
       "1349    49427         VTN\n",
       "1350    49898       SALL3\n",
       "1351    50691        CUX1\n",
       "1352    51430        DIO3"
      ]
     },
     "execution_count": 64,
     "metadata": {},
     "output_type": "execute_result"
    }
   ],
   "source": [
    "rowsRed.tail()"
   ]
  },
  {
   "cell_type": "code",
   "execution_count": 55,
   "metadata": {},
   "outputs": [
    {
     "data": {
      "text/plain": [
       "1353"
      ]
     },
     "execution_count": 55,
     "metadata": {},
     "output_type": "execute_result"
    }
   ],
   "source": [
    "rowsRed['row_num'].size #there exist missing genes"
   ]
  },
  {
   "cell_type": "markdown",
   "metadata": {},
   "source": [
    "# Looking for missing genes"
   ]
  },
  {
   "cell_type": "code",
   "execution_count": 56,
   "metadata": {},
   "outputs": [],
   "source": [
    "ver = [False]*1357"
   ]
  },
  {
   "cell_type": "code",
   "execution_count": 57,
   "metadata": {},
   "outputs": [],
   "source": [
    "for i in range(0,1357):\n",
    "    for j in range(0,1353):\n",
    "        if GeneNames[i] == rowsRed['gene_symbol'][j]:\n",
    "            ver[i]=True"
   ]
  },
  {
   "cell_type": "code",
   "execution_count": 58,
   "metadata": {},
   "outputs": [
    {
     "name": "stdout",
     "output_type": "stream",
     "text": [
      "2-Sep\n",
      "CCSAP\n",
      "ID2B\n",
      "NREP\n",
      "NYAP1\n"
     ]
    }
   ],
   "source": [
    "for i in range(0,1357):\n",
    "    if not ver[i]:\n",
    "        print(GeneNames[i])"
   ]
  },
  {
   "cell_type": "markdown",
   "metadata": {},
   "source": [
    "# Gene DIO3 appears twice on the rowMetaData, may cause a problem"
   ]
  },
  {
   "cell_type": "code",
   "execution_count": 87,
   "metadata": {},
   "outputs": [
    {
     "data": {
      "text/plain": [
       "count     1353\n",
       "unique    1352\n",
       "top       DIO3\n",
       "freq         2\n",
       "Name: gene_symbol, dtype: object"
      ]
     },
     "execution_count": 87,
     "metadata": {},
     "output_type": "execute_result"
    }
   ],
   "source": [
    "rowsRed['gene_symbol'].describe()"
   ]
  },
  {
   "cell_type": "code",
   "execution_count": 90,
   "metadata": {},
   "outputs": [
    {
     "data": {
      "text/html": [
       "<div>\n",
       "<style scoped>\n",
       "    .dataframe tbody tr th:only-of-type {\n",
       "        vertical-align: middle;\n",
       "    }\n",
       "\n",
       "    .dataframe tbody tr th {\n",
       "        vertical-align: top;\n",
       "    }\n",
       "\n",
       "    .dataframe thead th {\n",
       "        text-align: right;\n",
       "    }\n",
       "</style>\n",
       "<table border=\"1\" class=\"dataframe\">\n",
       "  <thead>\n",
       "    <tr style=\"text-align: right;\">\n",
       "      <th></th>\n",
       "      <th>row_num</th>\n",
       "      <th>gene_symbol</th>\n",
       "    </tr>\n",
       "  </thead>\n",
       "  <tbody>\n",
       "    <tr>\n",
       "      <th>1285</th>\n",
       "      <td>17804</td>\n",
       "      <td>DIO3</td>\n",
       "    </tr>\n",
       "    <tr>\n",
       "      <th>1352</th>\n",
       "      <td>51430</td>\n",
       "      <td>DIO3</td>\n",
       "    </tr>\n",
       "  </tbody>\n",
       "</table>\n",
       "</div>"
      ],
      "text/plain": [
       "      row_num gene_symbol\n",
       "1285    17804        DIO3\n",
       "1352    51430        DIO3"
      ]
     },
     "execution_count": 90,
     "metadata": {},
     "output_type": "execute_result"
    }
   ],
   "source": [
    "rowsRed.loc[rowsRed['gene_symbol']=='DIO3']"
   ]
  },
  {
   "cell_type": "markdown",
   "metadata": {},
   "source": [
    "# Finishing up"
   ]
  },
  {
   "cell_type": "code",
   "execution_count": 91,
   "metadata": {},
   "outputs": [],
   "source": [
    "rowsRed=rowsRed.loc[rowsRed['gene_symbol']!='DIO3']"
   ]
  },
  {
   "cell_type": "code",
   "execution_count": 93,
   "metadata": {},
   "outputs": [
    {
     "data": {
      "text/html": [
       "<div>\n",
       "<style scoped>\n",
       "    .dataframe tbody tr th:only-of-type {\n",
       "        vertical-align: middle;\n",
       "    }\n",
       "\n",
       "    .dataframe tbody tr th {\n",
       "        vertical-align: top;\n",
       "    }\n",
       "\n",
       "    .dataframe thead th {\n",
       "        text-align: right;\n",
       "    }\n",
       "</style>\n",
       "<table border=\"1\" class=\"dataframe\">\n",
       "  <thead>\n",
       "    <tr style=\"text-align: right;\">\n",
       "      <th></th>\n",
       "      <th>row_num</th>\n",
       "      <th>gene_symbol</th>\n",
       "    </tr>\n",
       "  </thead>\n",
       "  <tbody>\n",
       "    <tr>\n",
       "      <th>0</th>\n",
       "      <td>15</td>\n",
       "      <td>SEMA3F</td>\n",
       "    </tr>\n",
       "    <tr>\n",
       "      <th>1</th>\n",
       "      <td>27</td>\n",
       "      <td>WNT16</td>\n",
       "    </tr>\n",
       "    <tr>\n",
       "      <th>2</th>\n",
       "      <td>28</td>\n",
       "      <td>HECW1</td>\n",
       "    </tr>\n",
       "    <tr>\n",
       "      <th>3</th>\n",
       "      <td>37</td>\n",
       "      <td>DBNDD1</td>\n",
       "    </tr>\n",
       "    <tr>\n",
       "      <th>4</th>\n",
       "      <td>38</td>\n",
       "      <td>ALS2</td>\n",
       "    </tr>\n",
       "  </tbody>\n",
       "</table>\n",
       "</div>"
      ],
      "text/plain": [
       "   row_num gene_symbol\n",
       "0       15      SEMA3F\n",
       "1       27       WNT16\n",
       "2       28       HECW1\n",
       "3       37      DBNDD1\n",
       "4       38        ALS2"
      ]
     },
     "execution_count": 93,
     "metadata": {},
     "output_type": "execute_result"
    }
   ],
   "source": [
    "rowsRed.head()"
   ]
  },
  {
   "cell_type": "code",
   "execution_count": 95,
   "metadata": {},
   "outputs": [
    {
     "data": {
      "text/plain": [
       "1351"
      ]
     },
     "execution_count": 95,
     "metadata": {},
     "output_type": "execute_result"
    }
   ],
   "source": [
    "rowsRed['gene_symbol'].size #6genes removed."
   ]
  },
  {
   "cell_type": "code",
   "execution_count": 98,
   "metadata": {},
   "outputs": [],
   "source": [
    "rowsRed.to_csv('rowsReduced.csv')"
   ]
  },
  {
   "cell_type": "code",
   "execution_count": null,
   "metadata": {},
   "outputs": [],
   "source": []
  }
 ],
 "metadata": {
  "kernelspec": {
   "display_name": "Python 3",
   "language": "python",
   "name": "python3"
  },
  "language_info": {
   "codemirror_mode": {
    "name": "ipython",
    "version": 3
   },
   "file_extension": ".py",
   "mimetype": "text/x-python",
   "name": "python",
   "nbconvert_exporter": "python",
   "pygments_lexer": "ipython3",
   "version": "3.6.4"
  }
 },
 "nbformat": 4,
 "nbformat_minor": 2
}
